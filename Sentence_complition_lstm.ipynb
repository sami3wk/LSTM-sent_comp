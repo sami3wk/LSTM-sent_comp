{
  "nbformat": 4,
  "nbformat_minor": 0,
  "metadata": {
    "colab": {
      "name": "Sentence_complition_lstm.ipynb",
      "provenance": [],
      "collapsed_sections": []
    },
    "kernelspec": {
      "name": "python3",
      "display_name": "Python 3"
    },
    "language_info": {
      "name": "python"
    }
  },
  "cells": [
    {
      "cell_type": "code",
      "execution_count": 18,
      "metadata": {
        "colab": {
          "base_uri": "https://localhost:8080/"
        },
        "id": "mADJgDciCI47",
        "outputId": "3709a262-d79a-42ea-aef9-6d4b6664bc5c"
      },
      "outputs": [
        {
          "output_type": "stream",
          "name": "stdout",
          "text": [
            "Drive already mounted at /content/drive; to attempt to forcibly remount, call drive.mount(\"/content/drive\", force_remount=True).\n"
          ]
        }
      ],
      "source": [
        "from google.colab import drive\n",
        "drive.mount('/content/drive')"
      ]
    },
    {
      "cell_type": "code",
      "source": [
        "A = open(\"/content/drive/My Drive/sherlock.txt\")"
      ],
      "metadata": {
        "id": "WVx1sRX1EH0j"
      },
      "execution_count": 19,
      "outputs": []
    },
    {
      "cell_type": "markdown",
      "source": [
        "Preprocessing\n",
        "1. Case Unification\n",
        "2. Special Charater Removal\n",
        "3. Stemming\n",
        "4. Lemmatization"
      ],
      "metadata": {
        "id": "M08TQwUvCEfC"
      }
    },
    {
      "cell_type": "code",
      "source": [
        "import nltk\n",
        "nltk.download('wordnet')"
      ],
      "metadata": {
        "colab": {
          "base_uri": "https://localhost:8080/"
        },
        "id": "vKC2UkoY5IIy",
        "outputId": "8df6f496-a0fa-4051-902f-1d40d6863cf9"
      },
      "execution_count": 20,
      "outputs": [
        {
          "output_type": "stream",
          "name": "stdout",
          "text": [
            "[nltk_data] Downloading package wordnet to /root/nltk_data...\n",
            "[nltk_data]   Package wordnet is already up-to-date!\n"
          ]
        },
        {
          "output_type": "execute_result",
          "data": {
            "text/plain": [
              "True"
            ]
          },
          "metadata": {},
          "execution_count": 20
        }
      ]
    },
    {
      "cell_type": "code",
      "source": [
        "import re\n",
        "\n",
        "Q = []\n",
        "\n",
        "from nltk.stem import PorterStemmer,WordNetLemmatizer\n",
        "\n",
        "wn = WordNetLemmatizer()\n",
        "ps = PorterStemmer()\n",
        "\n",
        "for i in A.read().split(\" \"):\n",
        "  i = ps.stem(i)\n",
        "  i = wn.lemmatize(i)\n",
        "  i = i.upper()\n",
        "  i = re.sub(\"[^A-Z]\",\"\",i)\n",
        "  Q.append(i)\n",
        "\n",
        "Q = Q[0:5000]"
      ],
      "metadata": {
        "id": "fVCHEI0OBnLJ"
      },
      "execution_count": 21,
      "outputs": []
    },
    {
      "cell_type": "markdown",
      "source": [
        "Create Unique words"
      ],
      "metadata": {
        "id": "aNRDG9QWIyho"
      }
    },
    {
      "cell_type": "code",
      "source": [
        "len(Q)"
      ],
      "metadata": {
        "colab": {
          "base_uri": "https://localhost:8080/"
        },
        "id": "xTIxjDbFIAro",
        "outputId": "8cc38653-8f28-4c7a-df31-092dedf65a64"
      },
      "execution_count": 22,
      "outputs": [
        {
          "output_type": "execute_result",
          "data": {
            "text/plain": [
              "5000"
            ]
          },
          "metadata": {},
          "execution_count": 22
        }
      ]
    },
    {
      "cell_type": "code",
      "source": [
        "import numpy as np\n",
        "unq = np.unique(Q)"
      ],
      "metadata": {
        "id": "2uh16fSlINAz"
      },
      "execution_count": 23,
      "outputs": []
    },
    {
      "cell_type": "code",
      "source": [
        "unq[10:15]"
      ],
      "metadata": {
        "colab": {
          "base_uri": "https://localhost:8080/"
        },
        "id": "bmkDft78IoUv",
        "outputId": "6c76e77e-5541-4200-850a-8bb69b5c1395"
      },
      "execution_count": 24,
      "outputs": [
        {
          "output_type": "execute_result",
          "data": {
            "text/plain": [
              "array(['ACCOMPLISH', 'ACCOUNT', 'ACCUSTOM', 'ACHARACT', 'ACHURCH'],\n",
              "      dtype='<U21')"
            ]
          },
          "metadata": {},
          "execution_count": 24
        }
      ]
    },
    {
      "cell_type": "markdown",
      "source": [
        "Preparing input and output"
      ],
      "metadata": {
        "id": "mwqnm387I9is"
      }
    },
    {
      "cell_type": "code",
      "source": [
        "inp = []\n",
        "op = []\n",
        "for i in range(4,len(Q),1):\n",
        "  w1 = Q[i-4]\n",
        "  w2 = Q[i-3]\n",
        "  w3 = Q[i-2]\n",
        "  w4 = Q[i-1]\n",
        "  sentence = str(w1)+\" \"+str(w2)+\" \"+str(w3)+\" \"+str(w4)\n",
        "  inp.append(sentence)\n",
        "  op.append(Q[i])"
      ],
      "metadata": {
        "id": "bwyAicaWIuHb"
      },
      "execution_count": 25,
      "outputs": []
    },
    {
      "cell_type": "code",
      "source": [
        "import pandas as pd\n",
        "A = pd.DataFrame([inp,op]).T"
      ],
      "metadata": {
        "id": "UCX3-JcIJ1u7"
      },
      "execution_count": 26,
      "outputs": []
    },
    {
      "cell_type": "code",
      "source": [
        "A.columns = [\"X\",\"Y\"]"
      ],
      "metadata": {
        "id": "qUYY6MQmJ3F5"
      },
      "execution_count": 27,
      "outputs": []
    },
    {
      "cell_type": "markdown",
      "source": [
        "Find out dimension of input"
      ],
      "metadata": {
        "id": "8HC1iLJ7LJMW"
      }
    },
    {
      "cell_type": "code",
      "source": [
        "nlines = len(A.X)\n",
        "num_uniques = len(unq)\n",
        "sequence = 4"
      ],
      "metadata": {
        "id": "RTp9AGjWLBgE"
      },
      "execution_count": 28,
      "outputs": []
    },
    {
      "cell_type": "markdown",
      "source": [
        "Create a blank array containing all zeroes with required dimensions"
      ],
      "metadata": {
        "id": "yUarvETHLXVN"
      }
    },
    {
      "cell_type": "code",
      "source": [
        "X = np.zeros((nlines,num_uniques,sequence),dtype=bool)\n",
        "Y = np.zeros((nlines,num_uniques),dtype=bool)"
      ],
      "metadata": {
        "id": "53O-ofepLC8b"
      },
      "execution_count": 29,
      "outputs": []
    },
    {
      "cell_type": "markdown",
      "source": [
        "Create a list of unique words which can be used for returning index values of specific words"
      ],
      "metadata": {
        "id": "53zQPrgGLhRP"
      }
    },
    {
      "cell_type": "code",
      "source": [
        "U1 = list(unq)\n",
        "U1.index(\"PROJECT\")"
      ],
      "metadata": {
        "colab": {
          "base_uri": "https://localhost:8080/"
        },
        "id": "TYMPajEfLblz",
        "outputId": "85ba355f-9404-40f9-9de1-07981d6dc40d"
      },
      "execution_count": 30,
      "outputs": [
        {
          "output_type": "execute_result",
          "data": {
            "text/plain": [
              "1181"
            ]
          },
          "metadata": {},
          "execution_count": 30
        }
      ]
    },
    {
      "cell_type": "markdown",
      "source": [
        "Update value in the cube|Tensor|Array for X"
      ],
      "metadata": {
        "id": "ZbYZtAAFLsn1"
      }
    },
    {
      "cell_type": "code",
      "source": [
        "for i,j in enumerate(A.X):\n",
        "    words_in_a_line = j.split(\" \")[0:4]\n",
        "    for p,q in enumerate(words_in_a_line):\n",
        "        X[i,U1.index(q),p] = 1"
      ],
      "metadata": {
        "id": "6lT9Xb64Lltq"
      },
      "execution_count": 31,
      "outputs": []
    },
    {
      "cell_type": "markdown",
      "source": [
        "Update value in the cube|Tensor|Array for Y"
      ],
      "metadata": {
        "id": "l2FM3da-MJez"
      }
    },
    {
      "cell_type": "code",
      "source": [
        "for i,j in enumerate(A.Y):\n",
        "    Y[i,U1.index(j)]=1"
      ],
      "metadata": {
        "id": "FoxHSSoqLyNM"
      },
      "execution_count": 32,
      "outputs": []
    },
    {
      "cell_type": "code",
      "source": [
        "Y"
      ],
      "metadata": {
        "colab": {
          "base_uri": "https://localhost:8080/"
        },
        "id": "ar3qZG9NMDzi",
        "outputId": "6b9137b3-d59b-418a-c504-41bd2f9076fc"
      },
      "execution_count": 33,
      "outputs": [
        {
          "output_type": "execute_result",
          "data": {
            "text/plain": [
              "array([[False, False, False, ..., False, False, False],\n",
              "       [False, False, False, ..., False, False, False],\n",
              "       [False, False, False, ..., False, False, False],\n",
              "       ...,\n",
              "       [False, False, False, ..., False, False, False],\n",
              "       [False, False, False, ..., False, False, False],\n",
              "       [False, False, False, ..., False, False, False]])"
            ]
          },
          "metadata": {},
          "execution_count": 33
        }
      ]
    },
    {
      "cell_type": "code",
      "source": [
        "Y[1,U1.index(\"SHERLOCK\")]"
      ],
      "metadata": {
        "colab": {
          "base_uri": "https://localhost:8080/"
        },
        "id": "QpWNrqagMUXB",
        "outputId": "01b4a9ab-1dce-4014-f53d-57772fa1e83b"
      },
      "execution_count": 34,
      "outputs": [
        {
          "output_type": "execute_result",
          "data": {
            "text/plain": [
              "True"
            ]
          },
          "metadata": {},
          "execution_count": 34
        }
      ]
    },
    {
      "cell_type": "markdown",
      "source": [
        "Create a Neaural Network"
      ],
      "metadata": {
        "id": "icbrobpCMaod"
      }
    },
    {
      "cell_type": "code",
      "source": [
        "from keras.models import Sequential\n",
        "from keras.layers import LSTM,Dense,Activation\n",
        "from keras.activations import softmax\n",
        "\n",
        "nn = Sequential()\n",
        "nn.add(LSTM(128,input_shape=(1726,4)))\n",
        "nn.add(Dense(len(U1)))\n",
        "nn.add(Activation('softmax'))"
      ],
      "metadata": {
        "id": "ulV0iBJtMYz_"
      },
      "execution_count": 35,
      "outputs": []
    },
    {
      "cell_type": "code",
      "source": [
        "nn.compile(loss=\"categorical_crossentropy\",optimizer=\"adam\",metrics=[\"accuracy\"])\n",
        "model = nn.fit(X,Y,epochs=2)"
      ],
      "metadata": {
        "colab": {
          "base_uri": "https://localhost:8080/"
        },
        "id": "L8UUjOsHMkBM",
        "outputId": "887e6de8-ffb2-40c1-d56d-efa7a5ce53e4"
      },
      "execution_count": 36,
      "outputs": [
        {
          "output_type": "stream",
          "name": "stdout",
          "text": [
            "Epoch 1/2\n",
            "157/157 [==============================] - 225s 1s/step - loss: 6.7442 - accuracy: 0.0436\n",
            "Epoch 2/2\n",
            "157/157 [==============================] - 224s 1s/step - loss: 6.3140 - accuracy: 0.0494\n"
          ]
        }
      ]
    },
    {
      "cell_type": "code",
      "source": [
        "X.shape"
      ],
      "metadata": {
        "colab": {
          "base_uri": "https://localhost:8080/"
        },
        "id": "F-JGwCvrMp7r",
        "outputId": "a5d1cf99-f6e3-423e-bb49-f74a08f9aece"
      },
      "execution_count": 37,
      "outputs": [
        {
          "output_type": "execute_result",
          "data": {
            "text/plain": [
              "(4996, 1726, 4)"
            ]
          },
          "metadata": {},
          "execution_count": 37
        }
      ]
    },
    {
      "cell_type": "markdown",
      "source": [
        "Get input from user"
      ],
      "metadata": {
        "id": "FKTou0tU3QQy"
      }
    },
    {
      "cell_type": "code",
      "source": [
        "input_X = np.zeros((1,1726,4),dtype=bool)\n",
        "inp = input(\"Enter text: \")"
      ],
      "metadata": {
        "colab": {
          "base_uri": "https://localhost:8080/"
        },
        "id": "dESTGPmJQ9Wc",
        "outputId": "d0ecd0c7-4807-4105-de4e-b9ae9030acbf"
      },
      "execution_count": 38,
      "outputs": [
        {
          "name": "stdout",
          "output_type": "stream",
          "text": [
            "Enter text: The adventures of sherlock\n"
          ]
        }
      ]
    },
    {
      "cell_type": "markdown",
      "source": [
        "Prepare user input same as train data"
      ],
      "metadata": {
        "id": "Dx4eXE4g3YBD"
      }
    },
    {
      "cell_type": "code",
      "source": [
        "I = []\n",
        "for i in inp.split(\" \"):\n",
        "    i = ps.stem(i)\n",
        "    i = wn.lemmatize(i)\n",
        "    i = i.upper()\n",
        "    i = re.sub(\"[^A-Z]\",\"\",i)\n",
        "    I.append(i)"
      ],
      "metadata": {
        "id": "6VGfP_DCRFDg"
      },
      "execution_count": 39,
      "outputs": []
    },
    {
      "cell_type": "code",
      "source": [
        "I"
      ],
      "metadata": {
        "colab": {
          "base_uri": "https://localhost:8080/"
        },
        "id": "bh72OF2ERXA3",
        "outputId": "35e70f42-c44e-4f7a-bf8d-69670e89fca4"
      },
      "execution_count": 40,
      "outputs": [
        {
          "output_type": "execute_result",
          "data": {
            "text/plain": [
              "['THE', 'ADVENTUR', 'OF', 'SHERLOCK']"
            ]
          },
          "metadata": {},
          "execution_count": 40
        }
      ]
    },
    {
      "cell_type": "code",
      "source": [
        "for p,q in enumerate(I):\n",
        "    input_X[0,U1.index(q),p] = 1"
      ],
      "metadata": {
        "id": "HGMS1Ci5Rp3Y"
      },
      "execution_count": 41,
      "outputs": []
    },
    {
      "cell_type": "code",
      "source": [
        "input_X"
      ],
      "metadata": {
        "colab": {
          "base_uri": "https://localhost:8080/"
        },
        "id": "o-gPLpLJRukU",
        "outputId": "b54ef1af-f456-425f-8264-2c64444f3293"
      },
      "execution_count": 42,
      "outputs": [
        {
          "output_type": "execute_result",
          "data": {
            "text/plain": [
              "array([[[False, False, False, False],\n",
              "        [False, False, False, False],\n",
              "        [False, False, False, False],\n",
              "        ...,\n",
              "        [False, False, False, False],\n",
              "        [False, False, False, False],\n",
              "        [False, False, False, False]]])"
            ]
          },
          "metadata": {},
          "execution_count": 42
        }
      ]
    },
    {
      "cell_type": "code",
      "source": [
        "U1.index(\"SHERLOCK\")"
      ],
      "metadata": {
        "colab": {
          "base_uri": "https://localhost:8080/"
        },
        "id": "p0JemB3QSvoR",
        "outputId": "77719b76-407f-43e9-e20d-d9eee39ab703"
      },
      "execution_count": 43,
      "outputs": [
        {
          "output_type": "execute_result",
          "data": {
            "text/plain": [
              "1323"
            ]
          },
          "metadata": {},
          "execution_count": 43
        }
      ]
    },
    {
      "cell_type": "code",
      "source": [
        "input_X[0,1323,3]"
      ],
      "metadata": {
        "colab": {
          "base_uri": "https://localhost:8080/"
        },
        "id": "x1MBjhMKUjBY",
        "outputId": "2d7bf508-29a1-43b1-a0d7-02ce099d61a4"
      },
      "execution_count": 44,
      "outputs": [
        {
          "output_type": "execute_result",
          "data": {
            "text/plain": [
              "True"
            ]
          },
          "metadata": {},
          "execution_count": 44
        }
      ]
    },
    {
      "cell_type": "markdown",
      "source": [
        "Predicting what will be next words"
      ],
      "metadata": {
        "id": "yGG86UzT4KnZ"
      }
    },
    {
      "cell_type": "code",
      "source": [
        "OP_NN = nn.predict(input_X)"
      ],
      "metadata": {
        "id": "KR0lQk6hUmbp"
      },
      "execution_count": 45,
      "outputs": []
    },
    {
      "cell_type": "markdown",
      "source": [
        "Making Dataframe of high probabilty next words"
      ],
      "metadata": {
        "id": "ZKi89JNM4aD8"
      }
    },
    {
      "cell_type": "code",
      "source": [
        "OP_DF = pd.DataFrame([U1,OP_NN[0]]).T"
      ],
      "metadata": {
        "id": "zijlf53kUuBO"
      },
      "execution_count": 46,
      "outputs": []
    },
    {
      "cell_type": "code",
      "source": [
        "OP_DF.columns = [\"word\",\"prob\"]"
      ],
      "metadata": {
        "id": "dhnZgoe3UxPb"
      },
      "execution_count": 47,
      "outputs": []
    },
    {
      "cell_type": "markdown",
      "source": [
        "Printing the first high probabilty word"
      ],
      "metadata": {
        "id": "obiku2wh4i1Q"
      }
    },
    {
      "cell_type": "code",
      "source": [
        "print(\"Next possible words are as follows: \")\n",
        "for i in OP_DF.sort_values(by=\"prob\",ascending=False)[[\"word\"]][0:5].values:\n",
        "    print(i[0])"
      ],
      "metadata": {
        "colab": {
          "base_uri": "https://localhost:8080/"
        },
        "id": "7kiGbSn9U1ZG",
        "outputId": "d009cd41-eaa1-4e31-850e-d7dba29f6003"
      },
      "execution_count": 48,
      "outputs": [
        {
          "output_type": "stream",
          "name": "stdout",
          "text": [
            "Next possible words are as follows: \n",
            "THE\n",
            "A\n",
            "AND\n",
            "OF\n",
            "TO\n"
          ]
        }
      ]
    },
    {
      "cell_type": "code",
      "source": [
        ""
      ],
      "metadata": {
        "id": "eM2B4EsiU9Fq"
      },
      "execution_count": null,
      "outputs": []
    }
  ]
}